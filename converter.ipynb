{
 "cells": [
  {
   "cell_type": "code",
   "execution_count": 1,
   "id": "121179ed",
   "metadata": {},
   "outputs": [],
   "source": [
    "def redenomi_converter(figure,period=None):\n",
    "    if period is not None:\n",
    "        period = period.upper() \n",
    "    \n",
    "    if figure is not None and period  == \"NEW\":\n",
    "        denomination = figure / 1000\n",
    "    elif figure is not None and period == \"OLD\":\n",
    "        denomination = figure * 1000\n",
    "    else:\n",
    "        denomination = figure / 1000\n",
    "    return denomination"
   ]
  },
  {
   "cell_type": "code",
   "execution_count": 2,
   "id": "fb4c3e2f",
   "metadata": {},
   "outputs": [
    {
     "data": {
      "text/plain": [
       "30500.0"
      ]
     },
     "execution_count": 2,
     "metadata": {},
     "output_type": "execute_result"
    }
   ],
   "source": [
    "redenomi_converter(30.50,\"old\")"
   ]
  },
  {
   "cell_type": "code",
   "execution_count": 3,
   "id": "029b4023",
   "metadata": {},
   "outputs": [
    {
     "data": {
      "text/plain": [
       "30.5"
      ]
     },
     "execution_count": 3,
     "metadata": {},
     "output_type": "execute_result"
    }
   ],
   "source": [
    "redenomi_converter(30500,\"new\")"
   ]
  },
  {
   "cell_type": "code",
   "execution_count": null,
   "id": "69ac97e0",
   "metadata": {},
   "outputs": [],
   "source": []
  }
 ],
 "metadata": {
  "kernelspec": {
   "display_name": "Python 3 (ipykernel)",
   "language": "python",
   "name": "python3"
  },
  "language_info": {
   "codemirror_mode": {
    "name": "ipython",
    "version": 3
   },
   "file_extension": ".py",
   "mimetype": "text/x-python",
   "name": "python",
   "nbconvert_exporter": "python",
   "pygments_lexer": "ipython3",
   "version": "3.8.5"
  }
 },
 "nbformat": 4,
 "nbformat_minor": 5
}
